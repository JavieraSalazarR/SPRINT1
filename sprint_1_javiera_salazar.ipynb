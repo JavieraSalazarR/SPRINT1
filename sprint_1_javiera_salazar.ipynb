{
  "cells": [
    {
      "cell_type": "markdown",
      "metadata": {
        "id": "view-in-github",
        "colab_type": "text"
      },
      "source": [
        "<a href=\"https://colab.research.google.com/github/JavieraSalazarR/SPRINT1/blob/main/sprint_1_javiera_salazar.ipynb\" target=\"_parent\"><img src=\"https://colab.research.google.com/assets/colab-badge.svg\" alt=\"Open In Colab\"/></a>"
      ]
    },
    {
      "cell_type": "markdown",
      "metadata": {
        "id": "RBg9bKqS3oej"
      },
      "source": [
        "#CLASE PRODUCTO"
      ]
    },
    {
      "cell_type": "code",
      "execution_count": null,
      "metadata": {
        "id": "UZW86kzMxIIY"
      },
      "outputs": [],
      "source": [
        "# En este ejercicio se clasificaran los datos de la siguiente forma\n",
        "# ID = Int\n",
        "# Nombre = Str\n",
        "# Descripcion = Str\n",
        "# Cantidad = Int\n",
        "# Precio = Int\n",
        "\n",
        "#Clase Producto: permitira modelar los productos con los atributos id, nombre ,descripcion, cantidad y precio\n",
        "class Producto:\n",
        "     def __init__(self,id,nombre,descripcion, cantidad, precio):\n",
        "       self.id=id\n",
        "       self.nombre=nombre\n",
        "       self.descripcion=descripcion\n",
        "       self.cantidad = cantidad\n",
        "       self.precio = precio\n",
        "# permite obtener información del producto\n",
        "     def obtener_info(self):\n",
        "       return f\"id: {self.id}, Nombre: {self.nombre}, Descripción: {self.descripcion}, Cantidad: {self.cantidad}, Precio: {self.precio}\"\n",
        "#permite modificar la información del producto\n",
        "     def modificar_producto(self, nombre=None, descripcion=None, cantidad=None, precio=None):\n",
        "        if nombre is not None:\n",
        "            self.nombre = nombre\n",
        "        if descripcion is not None:\n",
        "            self.descripcion = descripcion\n",
        "        if cantidad is not None:\n",
        "            self.cantidad = cantidad\n",
        "        if precio is not None:\n",
        "            self.precio = precio\n",
        "\n",
        "\n",
        "\n",
        "\n"
      ]
    },
    {
      "cell_type": "markdown",
      "metadata": {
        "id": "cYYOg42X3hms"
      },
      "source": [
        "#CLASE INVENTARIO"
      ]
    },
    {
      "cell_type": "code",
      "execution_count": null,
      "metadata": {
        "id": "RM3sJTOR2oYt"
      },
      "outputs": [],
      "source": [
        "#Clase Inventario\n",
        "class Inventario:\n",
        "     def __init__(self):\n",
        "        self.productos = {}\n",
        "\n",
        "# agrega un producto al inventario si el ID del producto no existe ya\n",
        "     def agregar_producto(self, producto):\n",
        "    #si el producto ya existe en el inventario, este no se crea\n",
        "        if producto.id in self.productos:\n",
        "            raise ValueError(\"El producto ya existe en el inventario.\")\n",
        "        self.productos[producto.id] = producto\n",
        "\n",
        "#elimina productos del inventario\n",
        "     def eliminar_producto(self, id):\n",
        "        if id not in self.productos:\n",
        "            raise KeyError(\"El producto no existe en el inventario.\")\n",
        "        del self.productos[id]\n",
        "\n",
        "#actualiza info de un producto en el inventario por su ID\n",
        "     def actualizar_producto(self, id, **kwargs):\n",
        "         if id not in self.productos:\n",
        "            raise KeyError(\"El producto no existe en el inventario.\")\n",
        "         self.productos[id].modificar_producto(**kwargs)\n",
        "\n",
        "#Busca y devuelve la información de un producto\n",
        "     def buscar_producto(self, id):\n",
        "\n",
        "         if id in self.productos:\n",
        "            return self.productos[id].obtener_info()\n",
        "         else:\n",
        "            return \"Producto no encontrado.\"\n",
        "\n",
        "\n",
        "     def listar_productos(self):\n",
        "         if not self.productos:\n",
        "            return \"El inventario está vacío.\"\n",
        "         total_cantidad = sum(producto.cantidad for producto in self.productos.values())\n",
        "         valor_total = sum(producto.cantidad * producto.precio for producto in self.productos.values())\n",
        "         inventario_str = \"\\n\".join(producto.obtener_info() for producto in self.productos.values())\n",
        "         return f\"{inventario_str}\\nTotal de Productos: {total_cantidad}, Valor Total del Inv\""
      ]
    },
    {
      "cell_type": "markdown",
      "metadata": {
        "id": "sSV0qTQq3bxl"
      },
      "source": [
        "#MENÚ"
      ]
    },
    {
      "cell_type": "code",
      "execution_count": null,
      "metadata": {
        "id": "BiqF5BXp3TSA"
      },
      "outputs": [],
      "source": [
        "#crea una instancia de inventario\n",
        "def main():\n",
        "    inventario = Inventario()\n",
        "\n",
        "    while True:\n",
        "        print(\"\\n--- Menú del inventario ---\")\n",
        "        print(\"1. Agregar Producto\")\n",
        "        print(\"2. Eliminar Producto\")\n",
        "        print(\"3. Actualizar Producto\")\n",
        "        print(\"4. Buscar Producto\")\n",
        "        print(\"5. Listar Productos\")\n",
        "        print(\"6. Salir\")\n",
        "\n",
        "        opcion = input(\"Seleccione una opción: \")\n"
      ]
    },
    {
      "cell_type": "markdown",
      "metadata": {
        "id": "qkZQm11x3_F6"
      },
      "source": [
        "#EJECUCION"
      ]
    },
    {
      "cell_type": "code",
      "execution_count": null,
      "metadata": {
        "colab": {
          "background_save": true,
          "base_uri": "https://localhost:8080/"
        },
        "id": "GjOHk46u4C3J",
        "outputId": "47367994-e8c5-4ca5-ee3f-669f4e5b33ce"
      },
      "outputs": [
        {
          "name": "stdout",
          "output_type": "stream",
          "text": [
            "\n",
            "--- Menú del inventario ---\n",
            "1. Agregar Producto\n",
            "2. Eliminar Producto\n",
            "3. Actualizar Producto\n",
            "4. Buscar Producto\n",
            "5. Listar Productos\n",
            "6. Salir\n"
          ]
        }
      ],
      "source": [
        "\n",
        "# Se inicia el programa\n",
        "while True:\n",
        "    main()\n",
        "    opcion = input(\"Seleccione una opción: \")\n",
        "\n",
        "    # Agrega producto\n",
        "    if opcion == \"1\":\n",
        "        try:\n",
        "            # permite solicitar datos al usuario,  controla el error de ingreso de datos\n",
        "            id_producto = input(\"Ingrese el ID del producto: \")\n",
        "            nombre = input(\"Ingrese el nombre del producto: \")\n",
        "            descripcion = input(\"Ingrese la descripción del producto: \")\n",
        "            cantidad = int(input(\"Ingrese la cantidad del producto: \"))\n",
        "            precio = float(input(\"Ingrese el precio del producto: \"))\n",
        "\n",
        "            # Crea el  Producto\n",
        "            nuevo_producto = Producto(id_producto, nombre, descripcion, cantidad, precio)\n",
        "\n",
        "            # Agrega Producto a inventario\n",
        "            inventario.agregar_producto(nuevo_producto)\n",
        "        # Imprime errores y repite el ciclo\n",
        "        except ValueError as e:\n",
        "            print(\"Error:\", e)\n",
        "\n",
        "    # Elimina producto\n",
        "    elif opcion == \"2\":\n",
        "        try:\n",
        "            # Solicitar datos al usuario, controla el error de ingreso de datos\n",
        "            id_producto = input(\"Ingrese el ID del producto a eliminar: \")\n",
        "            inventario.eliminar_producto(id_producto)\n",
        "        # Imprime errores y repite el ciclo\n",
        "        except KeyError as e:\n",
        "            print(\"Error:\", e)\n",
        "\n",
        "    # Actualizaa producto\n",
        "    elif opcion == \"3\":\n",
        "        try:\n",
        "            # Solicitar datos al usuario, se solicita afuera para controlar el error de ingreso de datos\n",
        "            id_producto = input(\"Ingrese el ID del producto a actualizar: \")\n",
        "\n",
        "            # Se genera un diccionario de datos con la nueva informacion para cambiar dentro de la función\n",
        "            nueva_informacion = {'nombre': input(\"Ingrese el nuevo nombre del producto: \"),\n",
        "                                 'descripcion': input(\"Ingrese la nueva descripción del producto: \"),\n",
        "                                 'cantidad': int(input(\"Ingrese la nueva cantidad del producto: \")),\n",
        "                                 'precio': float(input(\"Ingrese el nuevo precio del producto: \"))}\n",
        "            inventario.actualizar_producto(id_producto, nueva_informacion)\n",
        "\n",
        "        # Imprime errores  y repite el ciclo\n",
        "        except (KeyError, ValueError) as e:\n",
        "            print(\"Error:\", e)\n",
        "\n",
        "    # Buscar producto por ID\n",
        "    elif opcion == \"4\":\n",
        "        try:\n",
        "            # Solicitar datos al usuario, controla el error de ingreso de datos\n",
        "            id_producto = input(\"Ingrese el ID del producto a buscar: \")\n",
        "            inventario.buscar_producto(id_producto)\n",
        "\n",
        "        # Imprime errores y repite ciclo\n",
        "        except KeyError as e:\n",
        "            print(\"Error:\", e)\n",
        "\n",
        "    # Lista todos los productos\n",
        "    elif opcion == \"5\":\n",
        "        # Ejecuta funcion listar\n",
        "        inventario.listar_productos()\n",
        "\n",
        "    # Salir\n",
        "    elif opcion == \"6\":\n",
        "        # finaliza el while saliendo del programa\n",
        "        print(\"Saliendo del programa.\")\n",
        "        break\n",
        "\n",
        "    # Errores de selección de Menu\n",
        "    else:\n",
        "        print('\\n -- ERROR. Por favor, seleccione una opción válida. -- \\n')"
      ]
    }
  ],
  "metadata": {
    "colab": {
      "provenance": [],
      "authorship_tag": "ABX9TyMWXZeQ+G0zeGiO6RwX4dF1",
      "include_colab_link": true
    },
    "kernelspec": {
      "display_name": "Python 3",
      "name": "python3"
    },
    "language_info": {
      "name": "python"
    }
  },
  "nbformat": 4,
  "nbformat_minor": 0
}